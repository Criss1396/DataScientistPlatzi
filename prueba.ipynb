{
 "cells": [
  {
   "cell_type": "code",
   "execution_count": 1,
   "metadata": {},
   "outputs": [
    {
     "name": "stdout",
     "output_type": "stream",
     "text": [
      "hola\n"
     ]
    }
   ],
   "source": [
    "print(\"hola\")"
   ]
  },
  {
   "cell_type": "code",
   "execution_count": 2,
   "metadata": {},
   "outputs": [
    {
     "name": "stdout",
     "output_type": "stream",
     "text": [
      "prueba 2\n"
     ]
    }
   ],
   "source": [
    "print(\"prueba 2\")"
   ]
  },
  {
   "cell_type": "code",
   "execution_count": 3,
   "metadata": {},
   "outputs": [
    {
     "name": "stdout",
     "output_type": "stream",
     "text": [
      "Cristian AlejandroCristian Alejandro\n",
      "CRISTIAN ALEJANDRO\n",
      "cristian alejandro\n"
     ]
    }
   ],
   "source": [
    "# Ctrol + KU y Ctrol + KC comentarios\n",
    "name = \"Cristian Alejandro\"\n",
    "\n",
    "print(name * 2)\n",
    "print(name.upper())\n",
    "print(name.lower())"
   ]
  },
  {
   "cell_type": "code",
   "execution_count": 4,
   "metadata": {},
   "outputs": [
    {
     "name": "stdout",
     "output_type": "stream",
     "text": [
      "Valor: 3.14\n"
     ]
    }
   ],
   "source": [
    "valor = 3.14159\n",
    "print(\"Valor: {:.2f}\".format(valor))"
   ]
  },
  {
   "cell_type": "code",
   "execution_count": 5,
   "metadata": {},
   "outputs": [
    {
     "name": "stdout",
     "output_type": "stream",
     "text": [
      "Frase: Nunca pares de aprender, Autor: Platzi\n"
     ]
    }
   ],
   "source": [
    "frase = \"Nunca pares de aprender\"\n",
    "author = \"Platzi\"\n",
    "print(\"Frase: {}, Autor: {}\".format(frase, author))"
   ]
  },
  {
   "cell_type": "code",
   "execution_count": 6,
   "metadata": {},
   "outputs": [
    {
     "name": "stdout",
     "output_type": "stream",
     "text": [
      "Hola soy 'Carli'\n"
     ]
    }
   ],
   "source": [
    "print('Hola soy \\'Carli\\'')"
   ]
  },
  {
   "cell_type": "code",
   "execution_count": 7,
   "metadata": {},
   "outputs": [
    {
     "name": "stdout",
     "output_type": "stream",
     "text": [
      "Hola\n",
      "mundo\n"
     ]
    }
   ],
   "source": [
    "print(\"Hola\\nmundo\")"
   ]
  },
  {
   "cell_type": "code",
   "execution_count": 8,
   "metadata": {},
   "outputs": [
    {
     "name": "stdout",
     "output_type": "stream",
     "text": [
      "La ruta de archivo es: C:\\Users\\Usuario\\Desktop\\archivo.txt\n"
     ]
    }
   ],
   "source": [
    "print(\"La ruta de archivo es: C:\\\\Users\\\\Usuario\\\\Desktop\\\\archivo.txt\")"
   ]
  },
  {
   "cell_type": "code",
   "execution_count": 9,
   "metadata": {},
   "outputs": [
    {
     "name": "stdout",
     "output_type": "stream",
     "text": [
      "Suma: 20\n",
      "Resta: 0\n",
      "Multiplicación: 100\n",
      "Potenciación: 10000000000\n",
      "División: 1.0\n",
      "Parte entera de la división: 1\n",
      "Módulo: 0\n",
      "5.0\n",
      "14\n",
      "20\n",
      "9.0\n"
     ]
    }
   ],
   "source": [
    "#Operadores numéricos\n",
    "a = 10\n",
    "b = 10\n",
    "print(\"Suma:\", a + b)\n",
    "print(\"Resta:\", a - b)\n",
    "print(\"Multiplicación:\", a * b)\n",
    "print(\"Potenciación:\", a ** b)\n",
    "print(\"División:\", a / b)\n",
    "print(\"Parte entera de la división:\", a // b)\n",
    "print(\"Módulo:\", a % b)\n",
    "a /= 2\n",
    "print(a)\n",
    "operation_1  = 2 + 3 * 4\n",
    "operation_2  = (2 + 3) * 4\n",
    "print(operation_1)\n",
    "print(operation_2)\n",
    "operation_3 = (2+3) * (4**2)/ 8 - 1\n",
    "print(operation_3)"
   ]
  },
  {
   "cell_type": "code",
   "execution_count": 10,
   "metadata": {},
   "outputs": [
    {
     "name": "stdout",
     "output_type": "stream",
     "text": [
      "True\n",
      "False\n",
      "True\n",
      "False\n",
      "False\n",
      "True\n"
     ]
    }
   ],
   "source": [
    "a = 10\n",
    "b = 3\n",
    "print(a > b)\n",
    "print(a < b)\n",
    "print(a >= b)\n",
    "print(a <= b)\n",
    "print(a == b)\n",
    "print(a != b)"
   ]
  },
  {
   "cell_type": "code",
   "execution_count": 24,
   "metadata": {},
   "outputs": [
    {
     "name": "stdout",
     "output_type": "stream",
     "text": [
      "['diriginos al hotel', 'Ir a almorzar', 'Visitar un museo', 'volver al hotel', 'Estudiar', 1, 2, 3, 3, 4]\n",
      "<class 'list'>\n"
     ]
    }
   ],
   "source": [
    "#clase nro 10\n",
    "\n",
    "to_do = [\"diriginos al hotel\",\"Ir a almorzar\",\"Visitar un museo\",\"volver al hotel\",\"Estudiar\",1 , 2, 3 ,3 ,4]\n",
    "\n",
    "print(to_do)\n",
    "\n",
    "print(type(to_do))"
   ]
  },
  {
   "cell_type": "code",
   "execution_count": 18,
   "metadata": {},
   "outputs": [
    {
     "name": "stdout",
     "output_type": "stream",
     "text": [
      "C\n",
      "o\n",
      "Cr\n"
     ]
    }
   ],
   "source": [
    "string = \"Cristian Agudelo\"\n",
    "\n",
    "print(string[0]) #imprimimos el primer elemento\n",
    "print(string[-1]) #imprimimos el ultimo elemento elemento\n",
    "print(string[0:2]) #imprimimos desde el primero hasta el 2, no toma el tercero \"2\"\n"
   ]
  },
  {
   "cell_type": "code",
   "execution_count": 23,
   "metadata": {},
   "outputs": [
    {
     "name": "stdout",
     "output_type": "stream",
     "text": [
      "['diriginos al hotel', 'Cristian Agudelo', 'Ir a almorzar', 'Visitar un museo', 'volver al hotel', 'Estudiar', 1, 2, 3, 3, 4, 'Cristian Agudelo', 'Cristian Agudelo', 'Cristian Agudelo', ['a', 'b'], 'Cristian Agudelo', ['a', 'b'], 'Cristian Agudelo']\n",
      "['diriginos al hotel', 'Cristian Agudelo', 'Ir a almorzar', 'Visitar un museo', 'volver al hotel', 'Estudiar', 1, 2, 3, 3, 4, 'Cristian Agudelo', 'Cristian Agudelo', 'Cristian Agudelo', ['a', 'b'], 'Cristian Agudelo', ['a', 'b'], 'Cristian Agudelo', ['a', 'b']]\n",
      "['diriginos al hotel', 'Cristian Agudelo', 'Cristian Agudelo', 'Ir a almorzar', 'Visitar un museo', 'volver al hotel', 'Estudiar', 1, 2, 3, 3, 4, 'Cristian Agudelo', 'Cristian Agudelo', 'Cristian Agudelo', ['a', 'b'], 'Cristian Agudelo', ['a', 'b'], 'Cristian Agudelo', ['a', 'b']]\n"
     ]
    }
   ],
   "source": [
    "to_do.append(string) #agregar a la lista\n",
    "print(to_do)\n",
    "\n",
    "\n",
    "to_do.append([\"a\",\"b\"]) # para agregar necesitamos []\n",
    "print(to_do)\n",
    "\n",
    "to_do.insert(1,string)\n",
    "print(to_do)"
   ]
  },
  {
   "cell_type": "code",
   "execution_count": 31,
   "metadata": {},
   "outputs": [
    {
     "name": "stdout",
     "output_type": "stream",
     "text": [
      "mayor:  65\n",
      "menor:  1\n"
     ]
    }
   ],
   "source": [
    "numeros = [1,2,50,35,65]\n",
    "\n",
    "print(\"mayor: \",max(numeros))#mayor\n",
    "print(\"menor: \",min(numeros))#menor"
   ]
  },
  {
   "cell_type": "code",
   "execution_count": 30,
   "metadata": {},
   "outputs": [
    {
     "name": "stdout",
     "output_type": "stream",
     "text": [
      "[1, 2, 50, 35]\n"
     ]
    }
   ],
   "source": [
    "del numeros[-1] # eliminamos el ultimo elemento\n",
    "print(numeros)"
   ]
  },
  {
   "cell_type": "code",
   "execution_count": 34,
   "metadata": {},
   "outputs": [
    {
     "name": "stdout",
     "output_type": "stream",
     "text": [
      "[1, 2, 50, 35, 65]\n",
      "[1, 2, 50, 35, 65]\n",
      "2759015283136\n",
      "2759015283136\n"
     ]
    }
   ],
   "source": [
    "a = numeros\n",
    "\n",
    "print(a)\n",
    "print(numeros)\n",
    "\n",
    "del numeros[-1]\n",
    "\n",
    "print(id(a))\n",
    "print(id(numeros))"
   ]
  },
  {
   "cell_type": "code",
   "execution_count": 36,
   "metadata": {},
   "outputs": [
    {
     "name": "stdout",
     "output_type": "stream",
     "text": [
      "[1, 2, 50]\n",
      "[1, 2, 50]\n",
      "[1, 2]\n",
      "[1, 2, 50]\n",
      "[1, 2]\n",
      "2759015283136\n",
      "2759009822528\n",
      "2759015283136\n"
     ]
    }
   ],
   "source": [
    "print(a)\n",
    "print(numeros)\n",
    "\n",
    "c= a[:] #copiar sin que se ala misma espacio de memoria\n",
    "\n",
    "del numeros[-1]\n",
    "\n",
    "print(a)\n",
    "print(c)\n",
    "print(numeros)\n",
    "\n",
    "\n",
    "\n",
    "print(id(a))\n",
    "print(id(c))\n",
    "print(id(numeros))"
   ]
  },
  {
   "cell_type": "code",
   "execution_count": 37,
   "metadata": {},
   "outputs": [],
   "source": [
    "matriz = [[1,2,3],\n",
    "          [4,5,6],\n",
    "          [7,8,9]]"
   ]
  },
  {
   "cell_type": "code",
   "execution_count": 43,
   "metadata": {},
   "outputs": [
    {
     "name": "stdout",
     "output_type": "stream",
     "text": [
      "8\n"
     ]
    }
   ],
   "source": [
    "print(matriz[2][1])"
   ]
  },
  {
   "cell_type": "code",
   "execution_count": null,
   "metadata": {},
   "outputs": [],
   "source": [
    "#tuplas no se le spueden hacer modificiaciones, son inmutables. se pueden usar con parentesis o sin parentesis."
   ]
  },
  {
   "cell_type": "code",
   "execution_count": 45,
   "metadata": {},
   "outputs": [
    {
     "name": "stdout",
     "output_type": "stream",
     "text": [
      "Configuración: {'host': 'localhost', 'port': 8080, 'debug': True}\n",
      "Contador de palabras: {'manzana': 4, 'banana': 4, 'naranja': 2}\n",
      "Datos de usuario user123: {'nombre': 'Juan', 'edad': 30}\n",
      "Datos del libro: {'título': 'Cien años de soledad', 'autor': 'Gabriel García Márquez', 'año': 1967}\n",
      "Datos en JSON: {\"t\\u00edtulo\": \"Cien a\\u00f1os de soledad\", \"autor\": \"Gabriel Garc\\u00eda M\\u00e1rquez\", \"a\\u00f1o\": 1967}\n"
     ]
    }
   ],
   "source": [
    "#diccionarios  tiene clave : Valor \n",
    "# Configuración de una aplicación\n",
    "config = {\n",
    "    \"host\": \"localhost\",\n",
    "    \"port\": 8080,\n",
    "    \"debug\": True\n",
    "}\n",
    "print(\"Configuración:\", config)\n",
    "\n",
    "# Contador de palabras\n",
    "palabras = [\"manzana\", \"banana\", \"naranja\", \"manzana\", \"banana\",\"manzana\", \"banana\", \"naranja\", \"manzana\", \"banana\"]\n",
    "contador = {}\n",
    "for palabra in palabras:\n",
    "    if palabra in contador:\n",
    "        contador[palabra] += 1\n",
    "    else:\n",
    "        contador[palabra] = 1\n",
    "print(\"Contador de palabras:\", contador)\n",
    "\n",
    "# Mapeo de usuarios a datos\n",
    "usuarios = {\n",
    "    \"user123\": {\"nombre\": \"Juan\", \"edad\": 30},\n",
    "    \"user456\": {\"nombre\": \"Ana\", \"edad\": 25}\n",
    "}\n",
    "print(\"Datos de usuario user123:\", usuarios[\"user123\"])\n",
    "\n",
    "# Almacenamiento de datos estructurados\n",
    "libro = {\n",
    "    \"título\": \"Cien años de soledad\",\n",
    "    \"autor\": \"Gabriel García Márquez\",\n",
    "    \"año\": 1967\n",
    "}\n",
    "print(\"Datos del libro:\", libro)\n",
    "\n",
    "# Datos en formato JSON\n",
    "import json\n",
    "json_data = json.dumps(libro)\n",
    "print(\"Datos en JSON:\", json_data)"
   ]
  },
  {
   "cell_type": "code",
   "execution_count": 52,
   "metadata": {},
   "outputs": [
    {
     "name": "stdout",
     "output_type": "stream",
     "text": [
      "Configuración: {'host': 'localhost', 'port': 8080, 'debug': True}\n",
      "dict_keys(['host', 'port', 'debug'])\n",
      "dict_values(['localhost', 8080, True])\n",
      "dict_items([('host', 'localhost'), ('port', 8080), ('debug', True)])\n"
     ]
    }
   ],
   "source": [
    "config = {\n",
    "    \"host\": \"localhost\",\n",
    "    \"port\": 8080,\n",
    "    \"debug\": True\n",
    "}\n",
    "print(\"Configuración:\", config)\n",
    "\n",
    "claves = config.keys()#mostramos las claves\n",
    "print(claves)\n",
    "\n",
    "claves = config.values()#mostramos los valores \n",
    "print(claves)\n",
    "\n",
    "claves = config.items() #mostarmos todo ambos valores\n",
    "print(claves)"
   ]
  },
  {
   "cell_type": "code",
   "execution_count": 53,
   "metadata": {},
   "outputs": [
    {
     "name": "stdout",
     "output_type": "stream",
     "text": [
      "dos\n",
      "{'nombre': 'Carla', 'Apellido': 'Florida', 'Altura': 1.6, 'Edad': 29}\n",
      "{'nombre': 'Carla', 'Apellido': 'Florida', 'Altura': 1.6}\n",
      "dict_keys(['nombre', 'Apellido', 'Altura'])\n",
      "dict_values(['Carla', 'Florida', 1.6])\n",
      "dict_items([('nombre', 'Carla'), ('Apellido', 'Florida'), ('Altura', 1.6)])\n",
      "{'Apellido': 'Florida', 'Altura': 1.6, 'Edad': 29}\n"
     ]
    }
   ],
   "source": [
    "numbers = {1:\"uno\", 2:\"dos\", 3:\"tres\"}\n",
    "print(numbers[2])\n",
    "information = {\"nombre\": \"Carla\",\n",
    "               \"Apellido\": \"Florida\",\n",
    "               \"Altura\": 1.60,\n",
    "               \"Edad\": 29}\n",
    "print(information)\n",
    "del information[\"Edad\"]\n",
    "print(information)\n",
    "claves = information.keys()\n",
    "print(claves)\n",
    "#print(type(claves))\n",
    "values = information.values()\n",
    "print(values)\n",
    "pairs = information.items()\n",
    "print(pairs)\n",
    "contacts = {\"Carla\": {\"Apellido\": \"Florida\",\n",
    "               \"Altura\": 1.60,\n",
    "               \"Edad\": 29},\n",
    "                \"Diego\": {\"Apellido\": \"Antezana\",\n",
    "               \"Altura\": 1.80,\n",
    "               \"Edad\": 32}}\n",
    "print(contacts[\"Carla\"])"
   ]
  },
  {
   "cell_type": "code",
   "execution_count": 54,
   "metadata": {},
   "outputs": [
    {
     "name": "stdout",
     "output_type": "stream",
     "text": [
      "los cuadrados son:  [1, 4, 9, 16, 25, 36, 49, 64, 81, 100]\n"
     ]
    }
   ],
   "source": [
    "#comprension list \n",
    "#se pueden crear usando solo una linea de codigo\n",
    "\n",
    "squares =[x**2 for x in range(1,11)] #series, operaciones mas complejas a cada uno de los elementos que se van a operar\n",
    "\n",
    "print(\"los cuadrados son: \",squares)"
   ]
  },
  {
   "cell_type": "code",
   "execution_count": 55,
   "metadata": {},
   "outputs": [
    {
     "name": "stdout",
     "output_type": "stream",
     "text": [
      "Temperatura en grados Farenheit [345.6, 403.2, 460.8, 518.4]\n"
     ]
    }
   ],
   "source": [
    "celsius = [x+5 for x in range(1,5)]\n",
    "\n",
    "farenheit =[(temp * 9/5)*32 for temp in celsius] #temp es el nombre del elemente, y celcius es la lista\n",
    "print(\"Temperatura en grados Farenheit\", farenheit)"
   ]
  },
  {
   "cell_type": "code",
   "execution_count": 57,
   "metadata": {},
   "outputs": [
    {
     "name": "stdout",
     "output_type": "stream",
     "text": [
      "pares [2, 4, 6, 8, 10, 12, 14, 16, 18, 20, 22, 24, 26, 28, 30, 32, 34]\n"
     ]
    }
   ],
   "source": [
    "#numeros pares\n",
    "evens = [x for x in range(1,35) if  x%2==0]# si x tiene el modulo 0 se va a añadir a la lista\n",
    "\n",
    "print(\"pares\", evens)"
   ]
  },
  {
   "cell_type": "code",
   "execution_count": 59,
   "metadata": {},
   "outputs": [
    {
     "name": "stdout",
     "output_type": "stream",
     "text": [
      "[[1, 2, 3], [4, 5, 6], [7, 8, 9]]\n",
      "[[1, 4, 7], [2, 5, 8], [3, 6, 9]]\n"
     ]
    }
   ],
   "source": [
    "#transpuesta\n",
    "\n",
    "transposed = [[row[i]for row in matriz] for i in range(len(matriz[0]))]\n",
    "\n",
    "print(matriz)\n",
    "print(transposed)"
   ]
  },
  {
   "cell_type": "code",
   "execution_count": null,
   "metadata": {},
   "outputs": [],
   "source": []
  }
 ],
 "metadata": {
  "kernelspec": {
   "display_name": "Python 3",
   "language": "python",
   "name": "python3"
  },
  "language_info": {
   "codemirror_mode": {
    "name": "ipython",
    "version": 3
   },
   "file_extension": ".py",
   "mimetype": "text/x-python",
   "name": "python",
   "nbconvert_exporter": "python",
   "pygments_lexer": "ipython3",
   "version": "3.11.5"
  }
 },
 "nbformat": 4,
 "nbformat_minor": 2
}
